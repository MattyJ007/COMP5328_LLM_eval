{
 "cells": [
  {
   "cell_type": "code",
   "execution_count": 16,
   "metadata": {},
   "outputs": [],
   "source": [
    "import numpy as np\n",
    "from skimage.color import rgb2gray\n",
    "from sklearn.ensemble import RandomForestClassifier\n",
    "from sklearn.model_selection import GridSearchCV\n",
    "from sklearn.metrics import accuracy_score\n",
    "from keras.utils import to_categorical\n",
    "from sklearn.metrics import confusion_matrix\n",
    "from sklearn.preprocessing import normalize\n",
    "from keras.models import Sequential\n",
    "from keras.layers import Conv2D, MaxPooling2D, Flatten, Dense, Dropout\n",
    "from keras import backend as K\n",
    "import matplotlib.pyplot as plt\n",
    "\n",
    "\n",
    "FASHION_5_TRANSITION_MATRIX=[[0.5, 0.2, 0.3], [0.3, 0.5, 0.2], [0.2, 0.3, 0.5]]\n",
    "FASHION_6_TRANSITION_MATRIX=[[0.4, 0.3, 0.3], [0.3, 0.4, 0.3], [0.3, 0.3, 0.4]]\n",
    "CIFAR_TRANSITION_MATRIX=[[0.4, 0.3, 0.3], [0.3, 0.4, 0.3], [0.3, 0.3, 0.4]] #dummy matrix\n",
    "\n",
    "fashion5 = './data/FashionMNIST0.5.npz'\n",
    "fashion6 = './data/FashionMNIST0.6.npz'\n",
    "cifar = './data/CIFAR.npz'"
   ]
  },
  {
   "cell_type": "markdown",
   "metadata": {},
   "source": [
    "Run RF on each model"
   ]
  },
  {
   "cell_type": "code",
   "execution_count": null,
   "metadata": {},
   "outputs": [],
   "source": [
    "classifyRf(fashion5, FASHION_5_TRANSITION_MATRIX)"
   ]
  },
  {
   "cell_type": "code",
   "execution_count": null,
   "metadata": {},
   "outputs": [],
   "source": [
    "classifyRf(fashion6, FASHION_6_TRANSITION_MATRIX)"
   ]
  },
  {
   "cell_type": "code",
   "execution_count": 19,
   "metadata": {},
   "outputs": [
    {
     "name": "stdout",
     "output_type": "stream",
     "text": [
      "Running RF on ./data/CIFAR.npz\n"
     ]
    }
   ],
   "source": [
    "classifyRf(cifar, CIFAR_TRANSITION_MATRIX)"
   ]
  },
  {
   "cell_type": "code",
   "execution_count": 3,
   "metadata": {},
   "outputs": [],
   "source": [
    "def getData(file_path):\n",
    "  dataset = np.load(file_path)\n",
    "  xtr_val = dataset['Xtr']\n",
    "  str_val = dataset['Str']\n",
    "  xts = dataset['Xts']\n",
    "  yts = dataset['Yts']\n",
    "\n",
    "  #convert to greyscale\n",
    "  if xtr_val.shape[-1] == 3:\n",
    "        xtr_val = rgb2gray(xtr_val)\n",
    "        xts = rgb2gray(xts)\n",
    "\n",
    "  #flatten the image into 1D array\n",
    "  xtr_val = xtr_val.reshape(xtr_val.shape[0], -1)\n",
    "  xts = xts.reshape(xts.shape[0], -1)\n",
    "\n",
    "  #normalize the data\n",
    "  xtr_val = xtr_val.astype('float32') / 255.\n",
    "  xts = xts.astype('float32') / 255.\n",
    "\n",
    "  return xtr_val, str_val, xts, yts"
   ]
  },
  {
   "cell_type": "markdown",
   "metadata": {},
   "source": [
    "Random Forest"
   ]
  },
  {
   "cell_type": "code",
   "execution_count": 18,
   "metadata": {},
   "outputs": [],
   "source": [
    "def classifyRf(filename, transition_matrix, count=2): #count should be 10 according to 2.1.1\n",
    "\n",
    "    print(\"Running RF on\", filename)\n",
    "\n",
    "    xtr_val, str_val, xts, yts = getData(filename)\n",
    "\n",
    "    # Preprocessing\n",
    "    num_classes = len(np.unique(str_val))\n",
    "    str_val_categorical = to_categorical(str_val, num_classes)\n",
    "    \n",
    "    # Define the parameter grid for hyperparameter tuning\n",
    "    param_grid = {\n",
    "        'n_estimators': [200],\n",
    "        'max_depth': [10]\n",
    "        #'n_estimators': [50, 100, 200],\n",
    "        #'max_depth': [10, 20, None]\n",
    "    }\n",
    "\n",
    "    rf = RandomForestClassifier()\n",
    "\n",
    "    grid_search = GridSearchCV(estimator=rf, param_grid=param_grid, cv=count, scoring='accuracy')\n",
    "\n",
    "    grid_search.fit(xtr_val, np.argmax(str_val_categorical, axis=1))\n",
    "\n",
    "    best_rf = grid_search.best_estimator_\n",
    "    best_score = grid_search.best_score_\n",
    "    \n",
    "    print(\"RF Best Validation Accuracy: \", best_score)\n",
    "    print(\"Best Parameters: \", grid_search.best_params_)\n",
    "\n",
    "    best_rf.fit(xtr_val, np.argmax(str_val_categorical, axis=1))\n",
    "    \n",
    "    yts_pred = best_rf.predict(xts)\n",
    "    test_accuracy = accuracy_score(yts, yts_pred)\n",
    "    print(\"RF Test Accuracy: \", test_accuracy)\n",
    "\n",
    "    str_val_pred = best_rf.predict(xtr_val)\n",
    "    \n",
    "    # Construct confusion matrix using predicted and noisy labels\n",
    "    conf_matrix = confusion_matrix(np.argmax(str_val_categorical, axis=1), str_val_pred)\n",
    "\n",
    "    # Normalize the confusion matrix to estimate the transition matrix\n",
    "    estimated_transition_matrix = normalize(conf_matrix, axis=1, norm='l1')\n",
    "    print(\"Estimated Transition Matrix: \\n\", estimated_transition_matrix)\n",
    "    print(\"Actual Transition Matrix: \\n\", transition_matrix)"
   ]
  },
  {
   "cell_type": "markdown",
   "metadata": {},
   "source": [
    "CNN"
   ]
  },
  {
   "cell_type": "code",
   "execution_count": 5,
   "metadata": {},
   "outputs": [],
   "source": [
    "def custom_loss(transition_matrix):\n",
    "    def loss(y_true, y_pred):\n",
    "        y_pred_adjusted = K.dot(y_pred, K.constant(transition_matrix, dtype='float32'))\n",
    "        return K.categorical_crossentropy(y_true, y_pred_adjusted)\n",
    "    return loss\n",
    "\n",
    "def build_cnn(input_shape, num_classes, transition_matrix):\n",
    "    model = Sequential([\n",
    "        Conv2D(32, kernel_size=(3, 3), activation='relu', input_shape=input_shape),\n",
    "        MaxPooling2D(pool_size=(2, 2)),\n",
    "        Dropout(0.25),\n",
    "        Flatten(),\n",
    "        Dense(128, activation='relu'),\n",
    "        Dropout(0.5),\n",
    "        Dense(num_classes, activation='softmax')\n",
    "    ])\n",
    "    model.compile(loss=custom_loss(transition_matrix), optimizer='adam', metrics=['accuracy'])\n",
    "    return model\n",
    "\n",
    "def preprocess_data(x, y, num_classes):\n",
    "    x = x.reshape(x.shape[0], x.shape[1], x.shape[2], 1).astype('float32') / 255\n",
    "    y = to_categorical(y, num_classes)\n",
    "    return x, y\n",
    "\n",
    "def evaluate_model(cnn, x_test, y_test):\n",
    "    predictions = cnn.predict(x_test)\n",
    "    predicted_classes = np.argmax(predictions, axis=1)\n",
    "    true_classes = np.argmax(y_test, axis=1)\n",
    "    return accuracy_score(true_classes, predicted_classes)\n",
    "\n",
    "def classifyCnn(filename, transition_matrix, count=1):\n",
    "    xtr_val, ytr_val, xts, yts = getData(filename)\n",
    "    num_classes = len(np.unique(ytr_val))\n",
    "\n",
    "    xtr_val, ytr_val = preprocess_data(xtr_val, ytr_val, num_classes)\n",
    "    xts, yts = preprocess_data(xts, yts, num_classes)\n",
    "\n",
    "    accuracies = []\n",
    "    for _ in range(count):\n",
    "        cnn = build_cnn(xtr_val.shape[1:], num_classes, transition_matrix)\n",
    "        cnn.fit(xtr_val, ytr_val, epochs=10, batch_size=64, verbose=0)\n",
    "        acc = evaluate_model(cnn, xts, yts)\n",
    "        accuracies.append(acc)\n",
    "\n",
    "    print(\"CNN Average Validation Accuracy: \", np.mean(accuracies))\n"
   ]
  },
  {
   "cell_type": "markdown",
   "metadata": {},
   "source": [
    "Visuals"
   ]
  },
  {
   "cell_type": "code",
   "execution_count": null,
   "metadata": {},
   "outputs": [],
   "source": [
    "EXAMPLES=10\n",
    "# An ordered list of the CIFAR class names\n",
    "CIFAR_CLASS_NAMES = [\"0. Plane\", \"1. Car\", \"2. Cat\"]\n",
    "CIFAR_CATEGORY_LABELS = dict(zip(map(str, list(range(3))), CIFAR_CLASS_NAMES))\n",
    "\n",
    "FASHION_CLASS_NAMES = [\"0. T-shirt\", \"1. Pants\", \"2. Dress\"]\n",
    "FASHION_CATEGORY_LABELS = dict(zip(map(str, list(range(3))), FASHION_CLASS_NAMES))\n",
    "\n",
    "cifar_xtr, cifar_str, cifar_xts, cifar_yts = getData('./data/CIFAR.npz')\n",
    "# print('CIFAR\\n---------------')\n",
    "# print('Training samples:\\n', pd.DataFrame(cifar_str).value_counts())\n",
    "# print('Test samples:\\n', pd.DataFrame(cifar_yts).value_counts())\n",
    "\n",
    "fashion5_xtr, fashion5_str, fashion5_xts, fashion5_yts = getData('./data/FashionMNIST0.5.npz')\n",
    "# print('Fashion 0.5\\n---------------')\n",
    "# print('Training samples:\\n', pd.DataFrame(fashion5_str).value_counts())\n",
    "# print('Test samples:\\n', pd.DataFrame(fashion5_yts).value_counts())\n",
    "\n",
    "fashion6_xtr, fashion6_str, fashion6_xts, fashion6_yts = getData('./data/FashionMNIST0.6.npz')\n",
    "# print('Fashion 0.6\\n---------------')\n",
    "# print('Training samples:\\n', pd.DataFrame(fashion6_str).value_counts())\n",
    "# print('Test samples:\\n', pd.DataFrame(fashion6_yts).value_counts())\n",
    "\n",
    "def plot_examples(title, data_set, data_noisy_labels, categories, examples, category_labels):\n",
    "  fig = plt.figure(figsize=(examples, categories))  # Added a figure instance with a specified size\n",
    "  count = 1\n",
    "  for i in range(categories):\n",
    "    categoryIndeces = np.where(data_noisy_labels == i)\n",
    "    for j in range(examples):\n",
    "      plt.subplot(categories, examples, count),\n",
    "      plt.imshow(data_set[categoryIndeces[0][j]], cmap = 'binary')\n",
    "      plt.title(category_labels[str(data_noisy_labels[categoryIndeces[0][j]])]), plt.xticks([]), plt.yticks([])\n",
    "      count += 1\n",
    "  \n",
    "  fig.suptitle(title, fontsize=16)\n",
    "  plt.tight_layout()\n",
    "  plt.show()\n",
    "  plt.close()\n",
    "\n",
    "plot_examples('CIFAR Training Data', cifar_xtr, cifar_str, len(CIFAR_CLASS_NAMES), EXAMPLES, CIFAR_CATEGORY_LABELS)\n",
    "plot_examples('CIFAR Test Data', cifar_xts, cifar_yts, len(CIFAR_CLASS_NAMES), EXAMPLES, CIFAR_CATEGORY_LABELS)\n",
    "\n",
    "plot_examples('Fashion 0.5 Training Data', fashion5_xtr, fashion5_str, len(FASHION_CLASS_NAMES), EXAMPLES, FASHION_CATEGORY_LABELS)\n",
    "plot_examples('Fashion 0.5 Test Data', fashion5_xts, fashion5_yts, len(FASHION_CLASS_NAMES), EXAMPLES, FASHION_CATEGORY_LABELS)\n",
    "\n",
    "plot_examples('Fashion 0.6 Training Data', fashion6_xtr, fashion6_str, len(FASHION_CLASS_NAMES), EXAMPLES, FASHION_CATEGORY_LABELS)\n",
    "plot_examples('Fashion 0.6 Test Data', fashion6_xts, fashion6_yts, len(FASHION_CLASS_NAMES), EXAMPLES, FASHION_CATEGORY_LABELS)"
   ]
  }
 ],
 "metadata": {
  "kernelspec": {
   "display_name": "Python 3",
   "language": "python",
   "name": "python3"
  },
  "language_info": {
   "codemirror_mode": {
    "name": "ipython",
    "version": 3
   },
   "file_extension": ".py",
   "mimetype": "text/x-python",
   "name": "python",
   "nbconvert_exporter": "python",
   "pygments_lexer": "ipython3",
   "version": "3.11.6"
  }
 },
 "nbformat": 4,
 "nbformat_minor": 2
}
